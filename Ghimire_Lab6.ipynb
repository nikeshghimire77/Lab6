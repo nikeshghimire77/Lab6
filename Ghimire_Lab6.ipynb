{
 "cells": [
  {
   "cell_type": "code",
   "execution_count": 23,
   "metadata": {
    "colab": {
     "base_uri": "https://localhost:8080/"
    },
    "id": "1tV6INBCX4pT",
    "outputId": "d074adec-5144-4542-877d-2376066ba098"
   },
   "outputs": [
    {
     "data": {
      "text/plain": [
       "15"
      ]
     },
     "execution_count": 23,
     "metadata": {},
     "output_type": "execute_result"
    }
   ],
   "source": [
    "import pandas as pd\n",
    "\n",
    "# Read each file and skip the first three rows\n",
    "df1 = pd.read_csv(\"1.csv\", skiprows = [1, 2, 3])\n",
    "df2 = pd.read_csv(\"2.csv\", skiprows = [1, 2, 3])\n",
    "df3 = pd.read_csv(\"3.csv\", skiprows = [1, 2, 3])\n",
    "\n",
    "# Combine three files into one\n",
    "df =  pd.concat([df1, df2, df3])\n",
    "\n",
    "# For testing purpose, make sure the data is properly merged\n",
    "df.to_csv( \"df.csv\", index=False, encoding='utf-8-sig')\n",
    "\n",
    "# Working on the final merged file\n",
    "df.head()\n",
    "\n",
    "# Count the total number of rows (expected 15)\n",
    "df[df.columns[0]].count()\n"
   ]
  },
  {
   "cell_type": "code",
   "execution_count": 26,
   "metadata": {
    "id": "bTp8-FSE3boP"
   },
   "outputs": [],
   "source": [
    "orc_list = []\n",
    "obr_list = []\n",
    "obx_list = []\n",
    "\n",
    "for column in df:\n",
    "  if column == \"Sample Barcode\":\n",
    "    for value in df[column].values:\n",
    "      orc_to_be_replaced = value\n",
    "      commonOrder_header = \"ORC|RE||{}||CM||||20210909052539\".format(orc_to_be_replaced)\n",
    "      orc_list.append(commonOrder_header)\n",
    "      observationRequest_header = \"OBR|1||{}$1$202109081033$COVID19|COVID19||||||||||||||^SIMOA1||||202109091631175682507|||F||^^^^^Routine\".format(obr_to_be_replaced)\n",
    "      obr_list.append(observationRequest_header)\n",
    "\n",
    "  if column == \"Test Result\":\n",
    "    for value in df[column].values:\n",
    "      obx_to_be_replaced = value\n",
    "      observationResult_header = \"OBX|1||DRE||COVID{}||||||F\".format(obx_to_be_replaced.upper())\n",
    "      obx_list.append(observationResult_header)    "
   ]
  },
  {
   "cell_type": "code",
   "execution_count": 29,
   "metadata": {
    "colab": {
     "base_uri": "https://localhost:8080/"
    },
    "id": "AI1gB51q-5Tc",
    "outputId": "d2888531-0e52-4a2a-bb74-ffb650101f72"
   },
   "outputs": [
    {
     "name": "stdout",
     "output_type": "stream",
     "text": [
      "MSH|^~\\&|QUANTERIX|SIMOA1|||20210909042127||ORU^R01|53256|P|2.3\n",
      "PID|1||123456^^^GATECH||TEST^PATIENT||19951220|F\n",
      "ORC|RE||001109705920A||CM||||20210909052539\n",
      "OBR|1||$1$202109081033$COVID19|COVID19||||||||||||||^SIMOA1||||202109091631175682507|||F||^^^^^Routine\n",
      "OBX|1||DRE||COVIDNEGATIVE||||||F\n",
      "-------------\n",
      "MSH|^~\\&|QUANTERIX|SIMOA1|||20210909042127||ORU^R01|53256|P|2.3\n",
      "PID|1||123456^^^GATECH||TEST^PATIENT||19951220|F\n",
      "ORC|RE||001109705921A||CM||||20210909052539\n",
      "OBR|1||$1$202109081033$COVID19|COVID19||||||||||||||^SIMOA1||||202109091631175682507|||F||^^^^^Routine\n",
      "OBX|1||DRE||COVIDNEGATIVE||||||F\n",
      "-------------\n",
      "MSH|^~\\&|QUANTERIX|SIMOA1|||20210909042127||ORU^R01|53256|P|2.3\n",
      "PID|1||123456^^^GATECH||TEST^PATIENT||19951220|F\n",
      "ORC|RE||002109705924A||CM||||20210909052539\n",
      "OBR|1||$1$202109081033$COVID19|COVID19||||||||||||||^SIMOA1||||202109091631175682507|||F||^^^^^Routine\n",
      "OBX|1||DRE||COVIDNEGATIVE||||||F\n",
      "-------------\n",
      "MSH|^~\\&|QUANTERIX|SIMOA1|||20210909042127||ORU^R01|53256|P|2.3\n",
      "PID|1||123456^^^GATECH||TEST^PATIENT||19951220|F\n",
      "ORC|RE||006109705927A||CM||||20210909052539\n",
      "OBR|1||$1$202109081033$COVID19|COVID19||||||||||||||^SIMOA1||||202109091631175682507|||F||^^^^^Routine\n",
      "OBX|1||DRE||COVIDNEGATIVE||||||F\n",
      "-------------\n",
      "MSH|^~\\&|QUANTERIX|SIMOA1|||20210909042127||ORU^R01|53256|P|2.3\n",
      "PID|1||123456^^^GATECH||TEST^PATIENT||19951220|F\n",
      "ORC|RE||003109705931A||CM||||20210909052539\n",
      "OBR|1||$1$202109081033$COVID19|COVID19||||||||||||||^SIMOA1||||202109091631175682507|||F||^^^^^Routine\n",
      "OBX|1||DRE||COVIDNEGATIVE||||||F\n",
      "-------------\n",
      "MSH|^~\\&|QUANTERIX|SIMOA1|||20210909042127||ORU^R01|53256|P|2.3\n",
      "PID|1||123456^^^GATECH||TEST^PATIENT||19951220|F\n",
      "ORC|RE||001109705920A||CM||||20210909052539\n",
      "OBR|1||$1$202109081033$COVID19|COVID19||||||||||||||^SIMOA1||||202109091631175682507|||F||^^^^^Routine\n",
      "OBX|1||DRE||COVIDPOSITIVE||||||F\n",
      "-------------\n",
      "MSH|^~\\&|QUANTERIX|SIMOA1|||20210909042127||ORU^R01|53256|P|2.3\n",
      "PID|1||123456^^^GATECH||TEST^PATIENT||19951220|F\n",
      "ORC|RE||001109705921A||CM||||20210909052539\n",
      "OBR|1||$1$202109081033$COVID19|COVID19||||||||||||||^SIMOA1||||202109091631175682507|||F||^^^^^Routine\n",
      "OBX|1||DRE||COVIDNEGATIVE||||||F\n",
      "-------------\n",
      "MSH|^~\\&|QUANTERIX|SIMOA1|||20210909042127||ORU^R01|53256|P|2.3\n",
      "PID|1||123456^^^GATECH||TEST^PATIENT||19951220|F\n",
      "ORC|RE||002109705924A||CM||||20210909052539\n",
      "OBR|1||$1$202109081033$COVID19|COVID19||||||||||||||^SIMOA1||||202109091631175682507|||F||^^^^^Routine\n",
      "OBX|1||DRE||COVIDPOSITIVE||||||F\n",
      "-------------\n",
      "MSH|^~\\&|QUANTERIX|SIMOA1|||20210909042127||ORU^R01|53256|P|2.3\n",
      "PID|1||123456^^^GATECH||TEST^PATIENT||19951220|F\n",
      "ORC|RE||006109705927A||CM||||20210909052539\n",
      "OBR|1||$1$202109081033$COVID19|COVID19||||||||||||||^SIMOA1||||202109091631175682507|||F||^^^^^Routine\n",
      "OBX|1||DRE||COVIDPOSITIVE||||||F\n",
      "-------------\n",
      "MSH|^~\\&|QUANTERIX|SIMOA1|||20210909042127||ORU^R01|53256|P|2.3\n",
      "PID|1||123456^^^GATECH||TEST^PATIENT||19951220|F\n",
      "ORC|RE||003109705931A||CM||||20210909052539\n",
      "OBR|1||$1$202109081033$COVID19|COVID19||||||||||||||^SIMOA1||||202109091631175682507|||F||^^^^^Routine\n",
      "OBX|1||DRE||COVIDNEGATIVE||||||F\n",
      "-------------\n",
      "MSH|^~\\&|QUANTERIX|SIMOA1|||20210909042127||ORU^R01|53256|P|2.3\n",
      "PID|1||123456^^^GATECH||TEST^PATIENT||19951220|F\n",
      "ORC|RE||003110210686A||CM||||20210909052539\n",
      "OBR|1||$1$202109081033$COVID19|COVID19||||||||||||||^SIMOA1||||202109091631175682507|||F||^^^^^Routine\n",
      "OBX|1||DRE||COVIDPOSITIVE||||||F\n",
      "-------------\n",
      "MSH|^~\\&|QUANTERIX|SIMOA1|||20210909042127||ORU^R01|53256|P|2.3\n",
      "PID|1||123456^^^GATECH||TEST^PATIENT||19951220|F\n",
      "ORC|RE||001110210956A||CM||||20210909052539\n",
      "OBR|1||$1$202109081033$COVID19|COVID19||||||||||||||^SIMOA1||||202109091631175682507|||F||^^^^^Routine\n",
      "OBX|1||DRE||COVIDPOSITIVE||||||F\n",
      "-------------\n",
      "MSH|^~\\&|QUANTERIX|SIMOA1|||20210909042127||ORU^R01|53256|P|2.3\n",
      "PID|1||123456^^^GATECH||TEST^PATIENT||19951220|F\n",
      "ORC|RE||001110210962A||CM||||20210909052539\n",
      "OBR|1||$1$202109081033$COVID19|COVID19||||||||||||||^SIMOA1||||202109091631175682507|||F||^^^^^Routine\n",
      "OBX|1||DRE||COVIDPOSITIVE||||||F\n",
      "-------------\n",
      "MSH|^~\\&|QUANTERIX|SIMOA1|||20210909042127||ORU^R01|53256|P|2.3\n",
      "PID|1||123456^^^GATECH||TEST^PATIENT||19951220|F\n",
      "ORC|RE||001110210971A||CM||||20210909052539\n",
      "OBR|1||$1$202109081033$COVID19|COVID19||||||||||||||^SIMOA1||||202109091631175682507|||F||^^^^^Routine\n",
      "OBX|1||DRE||COVIDNEGATIVE||||||F\n",
      "-------------\n"
     ]
    }
   ],
   "source": [
    "# Displaying all the segments\n",
    "msg_header = \"MSH|^~\\&|QUANTERIX|SIMOA1|||20210909042127||ORU^R01|53256|P|2.3\"\n",
    "patient_header = \"PID|1||123456^^^GATECH||TEST^PATIENT||19951220|F\"\n",
    "for (a, b,c) in zip(orc_list, obr_list, obx_list):\n",
    "  if \"INVALID\" not in c: \n",
    "      print(msg_header)\n",
    "      print(patient_header)\n",
    "      print(a)\n",
    "      print(b)\n",
    "      print(c)\n",
    "      print(\"-------------\")"
   ]
  }
 ],
 "metadata": {
  "colab": {
   "collapsed_sections": [],
   "name": "Copy_of_Lab6.ipynb",
   "provenance": []
  },
  "kernelspec": {
   "display_name": "Python 3",
   "language": "python",
   "name": "python3"
  },
  "language_info": {
   "codemirror_mode": {
    "name": "ipython",
    "version": 3
   },
   "file_extension": ".py",
   "mimetype": "text/x-python",
   "name": "python",
   "nbconvert_exporter": "python",
   "pygments_lexer": "ipython3",
   "version": "3.8.8"
  }
 },
 "nbformat": 4,
 "nbformat_minor": 1
}
